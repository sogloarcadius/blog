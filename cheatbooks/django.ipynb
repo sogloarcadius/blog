{
 "cells": [
  {
   "cell_type": "markdown",
   "metadata": {
    "toc": "true"
   },
   "source": [
    "# Table of Contents\n",
    " <p><div class=\"lev1 toc-item\"><a href=\"#Virtual-environment\" data-toc-modified-id=\"Virtual-environment-1\"><span class=\"toc-item-num\">1&nbsp;&nbsp;</span>Virtual environment</a></div><div class=\"lev1 toc-item\"><a href=\"#ORM-Django-shell\" data-toc-modified-id=\"ORM-Django-shell-2\"><span class=\"toc-item-num\">2&nbsp;&nbsp;</span>ORM Django shell</a></div><div class=\"lev1 toc-item\"><a href=\"#Tests\" data-toc-modified-id=\"Tests-3\"><span class=\"toc-item-num\">3&nbsp;&nbsp;</span>Tests</a></div><div class=\"lev1 toc-item\"><a href=\"#manage.py\" data-toc-modified-id=\"manage.py-4\"><span class=\"toc-item-num\">4&nbsp;&nbsp;</span>manage.py</a></div><div class=\"lev1 toc-item\"><a href=\"#Translations\" data-toc-modified-id=\"Translations-5\"><span class=\"toc-item-num\">5&nbsp;&nbsp;</span>Translations</a></div>"
   ]
  },
  {
   "cell_type": "markdown",
   "metadata": {},
   "source": [
    "# Virtual environment\n"
   ]
  },
  {
   "cell_type": "code",
   "execution_count": null,
   "metadata": {
    "collapsed": true
   },
   "outputs": [],
   "source": [
    "virtualenv --python=python3.4 myvenv\n",
    "\n",
    "source myvenv/bin/activate\n",
    "\n",
    "pip install django\n",
    "\n",
    "deactivate\n"
   ]
  },
  {
   "cell_type": "markdown",
   "metadata": {},
   "source": [
    "\n",
    "# ORM Django shell"
   ]
  },
  {
   "cell_type": "code",
   "execution_count": null,
   "metadata": {
    "collapsed": true
   },
   "outputs": [],
   "source": [
    "python manage.py shell\n",
    "\n",
    "album1.song_set.create(.........)"
   ]
  },
  {
   "cell_type": "markdown",
   "metadata": {},
   "source": [
    "# Tests"
   ]
  },
  {
   "cell_type": "code",
   "execution_count": null,
   "metadata": {
    "collapsed": true
   },
   "outputs": [],
   "source": [
    "Download geckodriver for firefox\n",
    "\n",
    "tar -xvf ***.tar\n",
    "chmod u + x geckodriver\n",
    "mv geckodriver /usr/local/bin\n",
    "\n",
    "or \n",
    "\n",
    "add file location in PATH ( gedit ~/.bashrc)\n",
    "\n",
    "\n",
    "coverage run --source='.' manage.py test\n",
    "coverage report\n",
    "coverage html\n"
   ]
  },
  {
   "cell_type": "markdown",
   "metadata": {},
   "source": [
    "# manage.py"
   ]
  },
  {
   "cell_type": "code",
   "execution_count": null,
   "metadata": {
    "collapsed": true
   },
   "outputs": [],
   "source": [
    "python manage.py makemigrations ****\n",
    "\n",
    "python manage.py migrate\n",
    "\n",
    "python manage.py sqlmigrate **music *001\n",
    "\n",
    "\n",
    "python manage.py createsuperuser"
   ]
  },
  {
   "cell_type": "markdown",
   "metadata": {},
   "source": [
    "# Translations"
   ]
  },
  {
   "cell_type": "code",
   "execution_count": null,
   "metadata": {
    "collapsed": true
   },
   "outputs": [],
   "source": [
    "python manage.py makemessages -l fr\n",
    "python manage.py compilemessages -l fr"
   ]
  }
 ],
 "metadata": {
  "kernelspec": {
   "display_name": "Python 3",
   "language": "python",
   "name": "python3"
  },
  "language_info": {
   "codemirror_mode": {
    "name": "ipython",
    "version": 3
   },
   "file_extension": ".py",
   "mimetype": "text/x-python",
   "name": "python",
   "nbconvert_exporter": "python",
   "pygments_lexer": "ipython3",
   "version": "3.4.3"
  },
  "toc": {
   "colors": {
    "hover_highlight": "#DAA520",
    "navigate_num": "#000000",
    "navigate_text": "#333333",
    "running_highlight": "#FF0000",
    "selected_highlight": "#FFD700",
    "sidebar_border": "#EEEEEE",
    "wrapper_background": "#FFFFFF"
   },
   "moveMenuLeft": true,
   "nav_menu": {
    "height": "105px",
    "width": "252px"
   },
   "navigate_menu": true,
   "number_sections": true,
   "sideBar": true,
   "threshold": 4,
   "toc_cell": true,
   "toc_section_display": "block",
   "toc_window_display": true,
   "widenNotebook": false
  }
 },
 "nbformat": 4,
 "nbformat_minor": 2
}
