{
 "cells": [
  {
   "cell_type": "markdown",
   "metadata": {},
   "source": [
    "## Create new project"
   ]
  },
  {
   "cell_type": "code",
   "execution_count": null,
   "metadata": {
    "collapsed": true
   },
   "outputs": [],
   "source": [
    "# use the spring starter api\n",
    "\n",
    "curl https://start.spring.io/starter.tgz -d style=web -d name=simple | tar -xzvf -\n"
   ]
  },
  {
   "cell_type": "markdown",
   "metadata": {},
   "source": [
    "## Spring Boot "
   ]
  },
  {
   "cell_type": "code",
   "execution_count": null,
   "metadata": {
    "collapsed": true
   },
   "outputs": [],
   "source": [
    "#run eclipse project from cli\n",
    "\n",
    "mvn spring-boot:run\n",
    "\n",
    "## generate jar file into {eclipseproject}/target/\n",
    "\n",
    "mvn clean install\n",
    "\n",
    "## run app\n",
    "\n",
    "java -jar target\\spring-boot-service.jar\n"
   ]
  }
 ],
 "metadata": {
  "kernelspec": {
   "display_name": "Bash",
   "language": "bash",
   "name": "bash"
  },
  "language_info": {
   "codemirror_mode": "shell",
   "file_extension": ".sh",
   "mimetype": "text/x-sh",
   "name": "bash"
  }
 },
 "nbformat": 4,
 "nbformat_minor": 2
}
