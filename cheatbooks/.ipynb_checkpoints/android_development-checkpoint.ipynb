{
 "cells": [
  {
   "cell_type": "markdown",
   "metadata": {
    "toc": "true"
   },
   "source": [
    "# Table of Contents\n",
    " <p><div class=\"lev1 toc-item\"><a href=\"#Introduction\" data-toc-modified-id=\"Introduction-1\"><span class=\"toc-item-num\">1&nbsp;&nbsp;</span>Introduction</a></div><div class=\"lev2 toc-item\"><a href=\"#Processus-de-compilation-Android\" data-toc-modified-id=\"Processus-de-compilation-Android-11\"><span class=\"toc-item-num\">1.1&nbsp;&nbsp;</span>Processus de compilation Android</a></div><div class=\"lev2 toc-item\"><a href=\"#Ressources\" data-toc-modified-id=\"Ressources-12\"><span class=\"toc-item-num\">1.2&nbsp;&nbsp;</span>Ressources</a></div><div class=\"lev1 toc-item\"><a href=\"#Code-Examples\" data-toc-modified-id=\"Code-Examples-2\"><span class=\"toc-item-num\">2&nbsp;&nbsp;</span>Code Examples</a></div>"
   ]
  },
  {
   "cell_type": "markdown",
   "metadata": {},
   "source": [
    "# Introduction\n",
    "\n",
    "Janvier 2007 : Apple sort Iphone\n",
    "\n",
    "Nov 2007 : Open Handset Alliance : S.E mobile Open source : 35 entreprises s'unissent dont google. Actuellement 80 entreprises dans OHA.\n",
    "\n",
    "Résultat : Android est sorti en 2007. La société Android Studio racheté par Google en 2005\n",
    "\n",
    "- SQLITE pour les BDD R\n",
    "- OPENGL pour les images 2d et 3d(videogames)\n",
    "\n",
    "\n",
    "## Processus de compilation Android\n",
    "\n",
    "Code java compilé par la JVM en bytecode (fichier .class),\n",
    "\n",
    "Ensuite une double compilation par la machine virtuelle Dalvik pour traduire les instructions bytecode dans un langage assembleur compréhensible par le processeur pour éxécuter notre programme.\n",
    "Interface utilisateur\n",
    "\n",
    "(UI = View)\n",
    "\n",
    "Layout = Gabarrit\n",
    "\n",
    "Widget = Composant ( une vue qui ne peut pas englober d'autres vues)\n",
    "\n",
    "Étapes pour construire interface utilisateur(user interface) : \n",
    "\n",
    "- choisir les composants ( widgets = TextView, ImageView, )\n",
    "- positionnement des composants( gabarits : LinearLayout, Relative Layout, TableLayout, FrameLayout, …)\n",
    "- Style des composants (couleur, polices, …)\n",
    "\n",
    "\n",
    "\n",
    "## Ressources\n",
    "\n",
    "fichier R.java , décrit toutes les ressources (layouts, strings, drawables, mipmaps…)\n",
    "\n",
    "Ces ressources sont tres utilisés. il s'agit de fichier xml pour les layouts\n",
    "Images\n",
    "\n",
    "Vectorielles : PNG, JPEG, GIF\n",
    "\n",
    "Matricielle : SVG , description sous forme de XML\n",
    "\n",
    "Technologie 9-patch permet de rendre les images extensibles sans perdre en qualité.\n",
    "Animations\n",
    "\n",
    "dossier res/anim"
   ]
  },
  {
   "cell_type": "markdown",
   "metadata": {},
   "source": [
    "# Code Examples"
   ]
  },
  {
   "cell_type": "code",
   "execution_count": null,
   "metadata": {
    "collapsed": true
   },
   "outputs": [],
   "source": [
    "Calendar c = Calendar.getInstance();\n",
    "SimpleDateFormat sdf = new SimpleDateFormat(\"HH:mm:ss a\");\n",
    "String strDate = sdf.format(c.getTime());\n",
    "TextView textView_date = (TextView) view.findViewById(R.id.feelings_date_now_id);\n",
    "textView_date.setText(strDate);\n",
    "\n",
    "\n",
    "packageName.contains(“com.twitter.android”) || packageName.contains(“com.facebook.katana”)\n",
    "packageName.contains(“com.whatsapp”)\n",
    "packageName.contains(“com.google.android.talk”)\n",
    "packageName.contains(“com.google.android.gm”)\n",
    "packageName.contains(“com.yahoo.mobile”)\n",
    "packageName.contains(“com.android.mms”)\n",
    "\n",
    "/*_token = token.getToken();\n",
    "Log.v(MainActivity.TAG, _token);\n",
    "\n",
    "Thread t1 = new Thread(new Runnable() {\n",
    "@Override\n",
    "public void run() {\n",
    "\n",
    "SyncCredentials myCredentials = SyncCredentials.facebook(_token);\n",
    "Logging in the User</font>\n",
    "user = SyncUser.login(myCredentials, AUTH_URL);\n",
    "\n",
    "String userJson = user.toJson();\n",
    "Log.v(MainActivity.TAG, userJson);\n",
    "\n",
    "runOnUiThread(new Runnable() {\n",
    "@Override\n",
    "public void run() {\n",
    "Create a RealmConfiguration for our user</font>\n",
    "SyncConfiguration config = new SyncConfiguration.Builder(user, SERVER_URL)\n",
    "\n",
    ".initialData(new Realm.Transaction() {\n",
    "@Override\n",
    "public void execute(Realm realm) {\n",
    "realm.createObject(SaveMood.class, 1);\n",
    "}\n",
    "})\n",
    ".build();\n",
    "\n",
    "This will automatically sync all changes in the background for as long as the Realm is open\n",
    "\n",
    "realm = Realm.getInstance(config);\n",
    "REALM_CONFIG_CREATED= true;'' }});\n",
    "}\n",
    "});\n",
    "\n",
    "t1.start();*/ \n"
   ]
  },
  {
   "cell_type": "markdown",
   "metadata": {},
   "source": [
    "## Get the app hash key programmatically for facebook\n"
   ]
  },
  {
   "cell_type": "code",
   "execution_count": null,
   "metadata": {
    "collapsed": true
   },
   "outputs": [],
   "source": [
    "\n",
    "try {\n",
    "    PackageInfo info = getPackageManager().getPackageInfo(\n",
    "                \"com.example.packagename\", \n",
    "                PackageManager.GET_SIGNATURES);\n",
    "    for (Signature signature : info.signatures) {\n",
    "        MessageDigest md = MessageDigest.getInstance(\"SHA\");\n",
    "        md.update(signature.toByteArray());\n",
    "        Log.d(\"KeyHash:\", Base64.encodeToString(md.digest(), Base64.DEFAULT));\n",
    "    }\n",
    "} catch (NameNotFoundException e) {\n",
    "\n",
    "} catch (NoSuchAlgorithmException e) {\n",
    "\n",
    "}"
   ]
  }
 ],
 "metadata": {
  "kernelspec": {
   "display_name": "Bash",
   "language": "bash",
   "name": "bash"
  },
  "language_info": {
   "codemirror_mode": "shell",
   "file_extension": ".sh",
   "mimetype": "text/x-sh",
   "name": "bash"
  },
  "toc": {
   "colors": {
    "hover_highlight": "#DAA520",
    "navigate_num": "#000000",
    "navigate_text": "#333333",
    "running_highlight": "#FF0000",
    "selected_highlight": "#FFD700",
    "sidebar_border": "#EEEEEE",
    "wrapper_background": "#FFFFFF"
   },
   "moveMenuLeft": true,
   "nav_menu": {
    "height": "86px",
    "width": "252px"
   },
   "navigate_menu": true,
   "number_sections": true,
   "sideBar": true,
   "threshold": 4,
   "toc_cell": true,
   "toc_position": {
    "height": "534px",
    "left": "0px",
    "right": "1097px",
    "top": "107px",
    "width": "269px"
   },
   "toc_section_display": "block",
   "toc_window_display": true,
   "widenNotebook": false
  }
 },
 "nbformat": 4,
 "nbformat_minor": 2
}
