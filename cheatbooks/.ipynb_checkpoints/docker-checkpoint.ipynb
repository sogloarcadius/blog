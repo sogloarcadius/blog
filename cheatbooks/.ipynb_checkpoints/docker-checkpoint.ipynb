{
 "cells": [
  {
   "cell_type": "markdown",
   "metadata": {},
   "source": [
    "## Images"
   ]
  },
  {
   "cell_type": "code",
   "execution_count": null,
   "metadata": {},
   "outputs": [],
   "source": [
    "\n",
    "# Build an image from DockerFile \n",
    "docker build -t <my_tag> .\n",
    "\n",
    "docker images\n",
    "\n",
    "docker images <image_name>\n",
    "\n",
    "docker images --filter dangling=true\n",
    "\n",
    "docker images --filter label=maintainer\n",
    "\n"
   ]
  },
  {
   "cell_type": "markdown",
   "metadata": {},
   "source": [
    "## Containers"
   ]
  },
  {
   "cell_type": "code",
   "execution_count": null,
   "metadata": {},
   "outputs": [],
   "source": [
    "\n",
    "## Run a container from an existing image\n",
    "docker run -p machineport:containerport <image_name_or_image_id>\n",
    "\n",
    "## show logs\n",
    "sudo docker logs xxxxxx\n",
    "\n",
    "## connect to the docker container shell\n",
    "docker exec -it soglomania/portfolio bash\n",
    "docker exec -it soglomania/portfolio sh\n",
    "\n",
    "docker ps\n",
    "\n",
    "docker ps --format {{.Names}}\n",
    "docker ps --format {{.ID}}\n"
   ]
  },
  {
   "cell_type": "markdown",
   "metadata": {},
   "source": [
    "## Cleaning"
   ]
  },
  {
   "cell_type": "code",
   "execution_count": null,
   "metadata": {},
   "outputs": [],
   "source": [
    "# delete all images\n",
    "\n",
    "sudo docker rmi $(sudo docker images -a -q)\n",
    "\n",
    "#delete untaged images\n",
    "\n",
    "sudo docker rmi $(sudo docker images -a | grep \"^<none>\" | awk '{print $3}')\n",
    "\n",
    "sudo docker rmi $(sudo docker images -f \"dangling=true\" -q)\n",
    "\n",
    "\n",
    "#stop containers and remove running containers\n",
    "\n",
    "sudo docker rm -f  $(sudo docker ps -a -q )"
   ]
  },
  {
   "cell_type": "markdown",
   "metadata": {},
   "source": [
    "## Docker Compose"
   ]
  },
  {
   "cell_type": "code",
   "execution_count": null,
   "metadata": {
    "collapsed": true
   },
   "outputs": [],
   "source": [
    "\n",
    "## docker command to start and stop\n",
    "\n",
    "sudo docker-compose up\n",
    "sudo docker-compose up -d #run in background\n",
    "\n",
    "sudo docker-compose down\n",
    "sudo docker-compose down --volumes #delete mounted files\n",
    "\n",
    "# stop everything\n",
    "sudo docker-compose stop\n",
    "\n",
    "#run a command on a service in the docker-compose.yaml file\n",
    "sudo docker-compose run service_name command \n",
    "\n",
    "\n",
    "## list services\n",
    "sudo docker-compose ps\n",
    "\n",
    "##when i want to rebuild the images\n",
    "sudo docker-compose build\n",
    "\n",
    "## rebuid after renaming service\n",
    "sudo docker-compose up --remove-orphans\n",
    "\n",
    "## exec command on a docker-compose service log\n",
    "\n",
    "sudo docker-compose exec log tail -f /var/log/portfolio.log\n"
   ]
  }
 ],
 "metadata": {
  "kernelspec": {
   "display_name": "Bash",
   "language": "bash",
   "name": "bash"
  },
  "language_info": {
   "codemirror_mode": "shell",
   "file_extension": ".sh",
   "mimetype": "text/x-sh",
   "name": "bash"
  }
 },
 "nbformat": 4,
 "nbformat_minor": 2
}
