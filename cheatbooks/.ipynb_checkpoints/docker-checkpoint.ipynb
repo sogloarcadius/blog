{
 "cells": [
  {
   "cell_type": "code",
   "execution_count": null,
   "metadata": {
    "collapsed": true
   },
   "outputs": [],
   "source": [
    "# Build image\n",
    "\n",
    "sudo docker build -t xxxxx .\n",
    "\n",
    "sudo docker run -p machineport:containerport xxxxx\n",
    "\n",
    "# delete all images\n",
    "\n",
    "sudo docker rmi $(sudo docker images -a -q)\n",
    "\n",
    "#delete untaged images\n",
    "\n",
    "sudo docker rmi $(sudo docker images -a | grep \"^<none>\" | awk '{print $3}')\n",
    "\n",
    "sudo docker rmi $(sudo docker images -f \"dangling=true\" -q)\n",
    "\n",
    "\n",
    "#stop containers and remove running containers\n",
    "\n",
    "sudo docker rm -f  $(sudo docker ps -a -q )\n",
    "\n",
    "############################## Interact with docker containers ###############################\n",
    "\n",
    "## show logs\n",
    "sudo docker logs xxxxxx\n",
    "\n",
    "## connect to the docker container shell\n",
    "docker exec -it soglomania/portfolio /bin/bash\n",
    "docker exec -it soglomania/portfolio /bin/sh\n",
    "\n",
    "###############################################  DOCKER COMPOSE #############################\n",
    "\n",
    "## docker command to start and stop\n",
    "\n",
    "sudo docker-compose up\n",
    "sudo docker-compose up -d #run in background\n",
    "\n",
    "sudo docker-compose down\n",
    "sudo docker-compose down --volumes #delete mounted files\n",
    "\n",
    "# stop everything\n",
    "sudo docker-compose stop\n",
    "\n",
    "#run a command on a service in the docker-compose.yaml file\n",
    "sudo docker-compose run service_name command \n",
    "\n",
    "\n",
    "## list services\n",
    "sudo docker-compose ps\n",
    "\n",
    "##when i wan to rebuild the images\n",
    "sudo docker-compose build\n",
    "\n",
    "## rebuid after renaming service\n",
    "\n",
    "sudo docker-compose up --remove-orphans\n",
    "\n",
    "## exec command on a docker-compose service log\n",
    "\n",
    "sudo docker-compose exec log tail -f /var/log/portfolio.log\n"
   ]
  }
 ],
 "metadata": {
  "kernelspec": {
   "display_name": "Bash",
   "language": "bash",
   "name": "bash"
  },
  "language_info": {
   "codemirror_mode": {
    "name": "ipython",
    "version": 3
   },
   "file_extension": ".py",
   "mimetype": "text/x-python",
   "name": "python",
   "nbconvert_exporter": "python",
   "pygments_lexer": "ipython3",
   "version": "3.4.3"
  }
 },
 "nbformat": 4,
 "nbformat_minor": 2
}
