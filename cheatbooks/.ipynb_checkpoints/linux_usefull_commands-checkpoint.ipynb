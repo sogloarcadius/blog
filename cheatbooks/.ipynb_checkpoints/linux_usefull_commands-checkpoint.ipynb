{
 "cells": [
  {
   "cell_type": "markdown",
   "metadata": {
    "toc": "true"
   },
   "source": [
    "# Table of Contents\n",
    " <p><div class=\"lev1 toc-item\"><a href=\"#remove-package-and-dependencies\" data-toc-modified-id=\"remove-package-and-dependencies-1\"><span class=\"toc-item-num\">1&nbsp;&nbsp;</span>remove package and dependencies</a></div><div class=\"lev1 toc-item\"><a href=\"#Cleaning-after-packages-removal-done\" data-toc-modified-id=\"Cleaning-after-packages-removal-done-2\"><span class=\"toc-item-num\">2&nbsp;&nbsp;</span>Cleaning after packages removal done</a></div>"
   ]
  },
  {
   "cell_type": "markdown",
   "metadata": {},
   "source": [
    "# do not start service on boot"
   ]
  },
  {
   "cell_type": "code",
   "execution_count": null,
   "metadata": {
    "collapsed": true
   },
   "outputs": [],
   "source": [
    "sudo update-rc.d -f apache2 remove\n",
    "sudo update-rc.d -f mysql remove\n",
    "#enable it again\n",
    "sudo update-rc.d apache2 enable"
   ]
  },
  {
   "cell_type": "markdown",
   "metadata": {},
   "source": [
    "# remove package and dependencies"
   ]
  },
  {
   "cell_type": "code",
   "execution_count": null,
   "metadata": {
    "collapsed": true
   },
   "outputs": [],
   "source": [
    "sudo apt-get purge --auto-remove packagename"
   ]
  },
  {
   "cell_type": "markdown",
   "metadata": {},
   "source": [
    "# Cleaning after packages removal done\n",
    "\n",
    "- parse folders and clean packages\n",
    "-\n"
   ]
  },
  {
   "cell_type": "code",
   "execution_count": null,
   "metadata": {
    "collapsed": true
   },
   "outputs": [],
   "source": [
    "[[ $(dpkg -l | grep ^rc) ]] && sudo dpkg -P $(dpkg -l | grep ^rc | tr -s \" \" | cut -d \" \" -f 2)"
   ]
  },
  {
   "cell_type": "markdown",
   "metadata": {},
   "source": [
    "# Sed"
   ]
  },
  {
   "cell_type": "markdown",
   "metadata": {},
   "source": [
    "## find and replace in file "
   ]
  },
  {
   "cell_type": "code",
   "execution_count": null,
   "metadata": {
    "collapsed": true
   },
   "outputs": [],
   "source": [
    "sed  's/INFO/DEBUG/' test.log"
   ]
  },
  {
   "cell_type": "markdown",
   "metadata": {},
   "source": [
    "## find and replace only first occurence"
   ]
  },
  {
   "cell_type": "code",
   "execution_count": null,
   "metadata": {
    "collapsed": true
   },
   "outputs": [],
   "source": [
    "sed '0,/INFO/s/INFO/DEBUG/' test.log"
   ]
  },
  {
   "cell_type": "markdown",
   "metadata": {},
   "source": [
    "## find and replace only a part of pattern"
   ]
  },
  {
   "cell_type": "code",
   "execution_count": null,
   "metadata": {
    "collapsed": true
   },
   "outputs": [],
   "source": [
    "sed 's/method=[a-zA-Z0-9]*/method=POST/' test.log\n",
    "sed 's/HTTP\\/[0-9.]*/HTTP\\/2.1/' test.log"
   ]
  },
  {
   "cell_type": "markdown",
   "metadata": {},
   "source": [
    "## find and replace only a part of pattern (replace only first occurence)"
   ]
  },
  {
   "cell_type": "code",
   "execution_count": null,
   "metadata": {
    "collapsed": true
   },
   "outputs": [],
   "source": [
    "sed '0,/HTTP\\/[0-9.]*/s/HTTP\\/[0-9.]*/HTTP\\/2.1/' test.log"
   ]
  },
  {
   "cell_type": "markdown",
   "metadata": {},
   "source": [
    "## insert into a particular line"
   ]
  },
  {
   "cell_type": "code",
   "execution_count": null,
   "metadata": {
    "collapsed": true
   },
   "outputs": [],
   "source": [
    "sed '3i text to insert \\n' test.log"
   ]
  },
  {
   "cell_type": "markdown",
   "metadata": {},
   "source": [
    "## usefull examples"
   ]
  },
  {
   "cell_type": "code",
   "execution_count": null,
   "metadata": {
    "collapsed": true
   },
   "outputs": [],
   "source": [
    "#print line 0\n",
    "sed -n '0,/django/p' test.log\n",
    "\n",
    "##delete\n",
    "sed -n '/django/d' test.log\n",
    "\n",
    "#delete a line\n",
    "sed '1d' test.log\n",
    "\n",
    "#delete from x to y line\n",
    "sed '1,3d' test.log\n",
    "\n",
    "#delete from x to the end \n",
    "sed '1,$ d' test.log\n",
    "\n",
    "#append after pattern matched\n",
    "sed -n '/django/ a to be appended after pattern mached' test.log \n",
    "\n",
    "\n"
   ]
  },
  {
   "cell_type": "markdown",
   "metadata": {},
   "source": [
    "# AWK"
   ]
  },
  {
   "cell_type": "code",
   "execution_count": null,
   "metadata": {
    "collapsed": true
   },
   "outputs": [],
   "source": [
    "awk 'findme' file.txt\n",
    "awk 'findme/{print $0}' file.txt\n",
    "awk -F: 'findme/{print $1}'\n",
    "awk -F/ 'findme/{print $1}'\n",
    "\n"
   ]
  },
  {
   "cell_type": "markdown",
   "metadata": {},
   "source": [
    "# TR"
   ]
  },
  {
   "cell_type": "code",
   "execution_count": null,
   "metadata": {
    "collapsed": true
   },
   "outputs": [],
   "source": [
    "tr -d ' '"
   ]
  }
 ],
 "metadata": {
  "kernelspec": {
   "display_name": "Bash",
   "language": "bash",
   "name": "bash"
  },
  "language_info": {
   "codemirror_mode": "shell",
   "file_extension": ".sh",
   "mimetype": "text/x-sh",
   "name": "bash"
  },
  "toc": {
   "colors": {
    "hover_highlight": "#DAA520",
    "navigate_num": "#000000",
    "navigate_text": "#333333",
    "running_highlight": "#FF0000",
    "selected_highlight": "#FFD700",
    "sidebar_border": "#EEEEEE",
    "wrapper_background": "#FFFFFF"
   },
   "moveMenuLeft": true,
   "nav_menu": {
    "height": "49px",
    "width": "252px"
   },
   "navigate_menu": true,
   "number_sections": true,
   "sideBar": true,
   "threshold": 4,
   "toc_cell": true,
   "toc_section_display": "block",
   "toc_window_display": true,
   "widenNotebook": false
  }
 },
 "nbformat": 4,
 "nbformat_minor": 2
}
