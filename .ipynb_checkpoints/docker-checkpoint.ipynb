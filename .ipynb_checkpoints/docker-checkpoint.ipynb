{
 "cells": [
  {
   "cell_type": "code",
   "execution_count": null,
   "metadata": {
    "collapsed": true
   },
   "outputs": [],
   "source": [
    "# Build image\n",
    "\n",
    "sudo docker build -t xxxxx .\n",
    "\n",
    "sudo docker run -p machineport:containerport xxxxx\n",
    "\n",
    "# delete all images\n",
    "\n",
    "sudo docker rmi $(sudo docker images -a -q)\n",
    "\n",
    "#delete untaged images\n",
    "\n",
    "sudo docker rmi $(sudo docker images -a | grep \"^<none>\" | awk '{print $3}')\n",
    "\n",
    "sudo docker rmi $(sudo docker images -f \"dangling=true\" -q)\n",
    "\n",
    "\n",
    "#stop containers and remove running containers\n",
    "\n",
    "sudo docker rm -f  $(sudo docker ps -a -q )"
   ]
  }
 ],
 "metadata": {
  "kernelspec": {
   "display_name": "Bash",
   "language": "bash",
   "name": "bash"
  },
  "language_info": {
   "codemirror_mode": "shell",
   "file_extension": ".sh",
   "mimetype": "text/x-sh",
   "name": "bash"
  }
 },
 "nbformat": 4,
 "nbformat_minor": 2
}
