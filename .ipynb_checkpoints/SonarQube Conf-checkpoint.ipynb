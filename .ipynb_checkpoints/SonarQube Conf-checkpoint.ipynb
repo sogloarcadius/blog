{
 "cells": [
  {
   "cell_type": "code",
   "execution_count": null,
   "metadata": {
    "collapsed": true
   },
   "outputs": [],
   "source": [
    "# Jenkins path to sonar properties\n",
    "\n",
    "{WORKSPACE}/xxx/xxx/sonar-project.properties\n"
   ]
  },
  {
   "cell_type": "code",
   "execution_count": null,
   "metadata": {
    "collapsed": true
   },
   "outputs": [],
   "source": [
    "# must be unique in a given SonarQube instance\n",
    "sonar.projectKey=tools:status_tenant\n",
    "# this is the name and version displayed in the SonarQube UI. Was mandatory prior to SonarQube 6.1.\n",
    "sonar.projectName=Tools Status tenant\n",
    "sonar.projectVersion=1.0\n",
    "\n",
    "# Path is relative to the sonar-project.properties file. Replace \"/\"  by \"\\\" on Windows.\n",
    "# Since SonarQube 4.2, this property is optional if sonar.modules is set. \n",
    "# If not set, SonarQube starts looking for source code from the directory containing \n",
    "# the sonar-project.properties file.\n",
    "\n",
    "\n",
    "# Exlusions\n",
    "sonar.exclusions=${WORKSPACE}/xxx/xx/xx/xx/**\n",
    "\n",
    "# Encoding of the source code. Default is default system encoding\n",
    "sonar.sourceEncoding=UTF-8\n",
    "\n",
    "\n",
    "# path to source directories (required)\n",
    "# sonar.sources=srcDir1,srcDir2\n",
    "\n",
    "# # path to test source directories (optional)\n",
    "# sonar.tests=testDir1,testDir2\n",
    "\n",
    "# # path to project binaries (optional), for example directory of Java bytecode\n",
    "# sonar.binaries=binDir\n",
    "\n",
    "# # optional comma-separated list of paths to libraries. Only path to JAR file and path to directory of classes are supported.\n",
    "# sonar.libraries=path/to/library.jar,path/to/classes/dir\n",
    "\n",
    "# # Uncomment this line to analyse a project which is not a java project.\n",
    "# # The value of the property must be the key of the language.\n",
    "# sonar.language=cobol\n",
    "\n",
    "# # Additional parameters\n",
    "# sonar.my.property=value\n",
    "\n"
   ]
  }
 ],
 "metadata": {
  "kernelspec": {
   "display_name": "Python 3",
   "language": "python",
   "name": "python3"
  },
  "language_info": {
   "codemirror_mode": {
    "name": "ipython",
    "version": 3
   },
   "file_extension": ".py",
   "mimetype": "text/x-python",
   "name": "python",
   "nbconvert_exporter": "python",
   "pygments_lexer": "ipython3",
   "version": "3.6.1"
  }
 },
 "nbformat": 4,
 "nbformat_minor": 2
}
