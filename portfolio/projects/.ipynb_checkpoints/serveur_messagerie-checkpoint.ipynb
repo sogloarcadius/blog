{
 "cells": [
  {
   "cell_type": "markdown",
   "metadata": {},
   "source": [
    "# title\n",
    "\n",
    "MAIL SERVER GNU/LINUX\n",
    "\n",
    "# icon\n",
    "\n",
    "\n",
    "# link\n",
    "\n",
    "https://drive.google.com/file/d/0B3QdIomi2EtuNTBfVzhwbkJ4ZDg/view?usp=sharing\n",
    "\n",
    "# summary_en\n",
    "\n",
    "\n",
    "# summary_fr\n",
    "\n",
    "Dans le cadre de notre formation menant au DUT réseaux et télécoms,\n",
    "les étudiants de deuxième année sont amenés à réaliser un projet tuteuré \n",
    "proposé par les enseignants de l'IUT (Institut Universitaire de Technologie).\n",
    "j'ai éffectué un projet en binôme sur la mise en place d'un serveur de messagerie linux.\n",
    "\n",
    "\n",
    "# summary_es\n",
    "\n",
    "\n",
    "# description_en\n",
    "\n",
    "\n",
    "# description_fr\n",
    "\n",
    "   \n",
    "  ## Contexte\n",
    "\n",
    " Dans le cadre de notre formation menant au DUT réseaux et télécoms, les étudiants de deuxième année sont amenés à réaliser un projet tuteuré proposé par les enseignants de l'IUT (Institut Universitaire de Technologie).\n",
    " j'ai éffectué un projet en binôme sur la mise en place d'un serveur de messagerie linux.\n",
    "\n",
    "\n",
    "  ## Cahier des charges :\n",
    "\n",
    " *\tInstaller et configurer un environnement virtualisé GNU/Linux( Xubuntu (Version LTS 14.04)\n",
    " *\tInstaller et configurer un serveur SMTP(Postfix)\n",
    " *\tMettre en place une solution anti-spam (Spamassasin) et anti-virus (Clam AV)\n",
    " *\tInstaller et configurer un serveur POP3/IMAP4(Dovecot)\n",
    " *\tInstaller et configurer un serveur Webmail(Roundcube)\n",
    " *\tInstaller et configurer un client de messagerie(Thunderbird)\n",
    " *\tEtudier la sécurisation des échanges de mail\n",
    " *\tRéaliser tous les tests de validation (avec Wireshark)\n",
    " *\tRédiger des fiches de synthèses (Installation, Configuration, Utilisation, Mise à jour,... pour chacun des ervices)\n",
    " \n",
    " \n",
    " ## Fiches synthèses \n",
    "\n",
    " [RAPPORT FINAL DE PROJET](https://drive.google.com/file/d/0B3QdIomi2EtuNTBfVzhwbkJ4ZDg/view?usp=sharing)\n",
    "\n",
    "# description_es\n",
    "    \n",
    "   "
   ]
  }
 ],
 "metadata": {
  "kernelspec": {
   "display_name": "Python 3",
   "language": "python",
   "name": "python3"
  },
  "language_info": {
   "codemirror_mode": {
    "name": "ipython",
    "version": 3
   },
   "file_extension": ".py",
   "mimetype": "text/x-python",
   "name": "python",
   "nbconvert_exporter": "python",
   "pygments_lexer": "ipython3",
   "version": "3.4.3"
  }
 },
 "nbformat": 4,
 "nbformat_minor": 2
}
