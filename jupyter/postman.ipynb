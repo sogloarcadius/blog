{
 "cells": [
  {
   "cell_type": "markdown",
   "metadata": {},
   "source": [
    "### Get started\n",
    "\n",
    "* [Swagger OPEN API](https://swagger.io/docs/specification/about/)\n",
    "\n",
    "* [Swagger Stackstorm](https://github.com/StackStorm/st2apidocs/blob/master/openapi.yaml)\n",
    "\n",
    "* [JSON2YAML](https://www.json2yaml.com/)\n",
    "\n",
    "* Read the documentation to get an API KEY [Postman integrations dashboard](https://docs.api.getpostman.com/)\n",
    "\n",
    "* To update an existing collection, retrieve the `collection_uid` and `collection_id` by submitting a `GET` request using the [Postman API](https://docs.api.getpostman.com/#3190c896-4216-a0a3-aa38-a041d0c2eb72). \n"
   ]
  }
 ],
 "metadata": {
  "kernelspec": {
   "display_name": "Bash",
   "language": "bash",
   "name": "bash"
  },
  "language_info": {
   "codemirror_mode": "shell",
   "file_extension": ".sh",
   "mimetype": "text/x-sh",
   "name": "bash"
  }
 },
 "nbformat": 4,
 "nbformat_minor": 2
}
