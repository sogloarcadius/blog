{
 "cells": [
  {
   "cell_type": "markdown",
   "metadata": {},
   "source": [
    "## Configuration"
   ]
  },
  {
   "cell_type": "code",
   "execution_count": null,
   "metadata": {
    "collapsed": true
   },
   "outputs": [],
   "source": [
    "{\n",
    "    \"host\": \"10.253.52.106\",\n",
    "    \"port\": 22,\n",
    "    \"username\": \"seen-devel\",\n",
    "    \"password\": \"seen-devel\",\n",
    "    \"protocol\": \"sftp\",\n",
    "    \"privateKeyPath\": null,\n",
    "    \"passphrase\": null,\n",
    "    \"passive\": false,\n",
    "    \"remotePath\": \"/srv/repository/jenkins/workspace/tools-status-tenant\",\n",
    "    \"uploadOnSave\": false,\n",
    "    \"syncMode\": \"update\",\n",
    "    \"watcher\": {\n",
    "        \"files\": false,\n",
    "        \"autoUpload\": false,\n",
    "        \"autoDelete\": true\n",
    "    },\n",
    "   \"ignore\": [\n",
    "        \"**/.vscode\",\n",
    "        \"**/.git\",\n",
    "        \"**/.DS_Store\",\n",
    "        \"**/.sftpConfig.json\",\n",
    "        \"**/*.pyc\",\n",
    "        \"**/*.log\",\n",
    "        \"**/logs\",\n",
    "        \"**/html/*.json\",\n",
    "        \"**/html/*.html\"\n",
    "    ]\n",
    "}\n"
   ]
  }
 ],
 "metadata": {
  "kernelspec": {
   "display_name": "Python 3",
   "language": "python",
   "name": "python3"
  },
  "language_info": {
   "codemirror_mode": {
    "name": "ipython",
    "version": 3
   },
   "file_extension": ".py",
   "mimetype": "text/x-python",
   "name": "python",
   "nbconvert_exporter": "python",
   "pygments_lexer": "ipython3",
   "version": "3.4.3"
  }
 },
 "nbformat": 4,
 "nbformat_minor": 2
}
