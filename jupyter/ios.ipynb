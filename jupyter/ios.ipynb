{
 "cells": [
  {
   "cell_type": "markdown",
   "metadata": {
    "slideshow": {
     "slide_type": "slide"
    }
   },
   "source": [
    "# Commandes de base cisco"
   ]
  },
  {
   "cell_type": "code",
   "execution_count": null,
   "metadata": {
    "collapsed": true,
    "slideshow": {
     "slide_type": "slide"
    }
   },
   "outputs": [],
   "source": [
    "#enter mode privilegies\n",
    "\n",
    "enable /disable\n",
    "\n",
    "#enter configuration mode(mode de config/ config globale)\n",
    "\n",
    "configure terminal\n",
    "\n",
    "#configure hostname\n",
    "\n",
    "hostname writehostname\n",
    "\n",
    "#enable password encryption in conf file\n",
    "#password not encryped during transmission\n",
    "\n",
    "service password-encryption\n",
    "\n",
    "#secure connection in priviliged mode\n",
    "\n",
    "enable secret *********\n",
    "\n",
    "\n",
    "#secure line console connection\n",
    "\n",
    "line console 0\n",
    "password ********\n",
    "login\n",
    "\n",
    "\n",
    "#secure VTY 0 to 15\n",
    "\n",
    "line VTY 0 15\n",
    "password *****\n",
    "login\n",
    "\n",
    "#message de banniere\n",
    "\n",
    "banner motd *********\n",
    "\n",
    "\n",
    "#see configuration\n",
    "\n",
    "show running-config\n",
    "\n",
    "show startup-config\n",
    "\n",
    "\n",
    "#save conf\n",
    "\n",
    "copy running-config startup-config\n",
    "write memory\n",
    "\n",
    "#delete conf\n",
    "\n",
    "erase startup-config\n",
    "reload /*inactivity for a while\n",
    "\n",
    "#activer une interface\n",
    "\n",
    "no shutdown\n",
    "\n",
    "#configurer l'interface de commutateur SVI (interface virtuelle)\n",
    "\n",
    "interface vlan 1\n",
    "no shutdown\n",
    "\n",
    "\n",
    "#afficher résumé sur une interface\n",
    "\n",
    "show ip interface brief\n"
   ]
  },
  {
   "cell_type": "markdown",
   "metadata": {
    "slideshow": {
     "slide_type": "-"
    }
   },
   "source": [
    "# Configuration de routeur cisco "
   ]
  },
  {
   "cell_type": "code",
   "execution_count": null,
   "metadata": {
    "collapsed": true,
    "slideshow": {
     "slide_type": "slide"
    }
   },
   "outputs": [],
   "source": [
    "# Configurer interface de loopback\n",
    "\n",
    "conf t\n",
    "interface loopback 0\n",
    "ip address x.x.x.x x.x.x.x\n",
    "# (Inutile de préciser no shutdown car interface logiciel toujours active)\n",
    "end\n",
    "\n",
    "\n",
    "#afficher la table de routage\n",
    "\n",
    "show ip route\n",
    "\n",
    "#afficher des informations sur le systeme d'exploitation \n",
    "\n",
    "show version\n",
    "\n",
    "#ajouter une route par défaut sur switch/routeur cisco\n",
    "\n",
    "enable\n",
    "conf t\n",
    "ip default-gateway xxx.xx..x.x.xx.\n",
    "\n",
    "#configurer interface\n",
    "\n",
    "enable\n",
    "conf t\n",
    "interface xxx y/z\n",
    "description %%%ùùùùùùù(240 max)\n",
    "no shutdown\n",
    "end\n"
   ]
  },
  {
   "cell_type": "markdown",
   "metadata": {},
   "source": [
    "# Configuration SSH "
   ]
  },
  {
   "cell_type": "code",
   "execution_count": null,
   "metadata": {
    "collapsed": true
   },
   "outputs": [],
   "source": [
    "# pour savoir si ssh pris en compte ?\n",
    "\n",
    ">show ip ssh\n",
    "\n",
    "#configuration nom de domaine\n",
    "\n",
    ">ip domain-name nom-domaine\n",
    "\n",
    "\n",
    "#configurer ssh version 2\n",
    "\n",
    ">ip ssh version 2\n",
    "\n",
    "#générer paire de clés, active automatiquement serveur ssh\n",
    "\n",
    "#supprimer paire de clés ssh\n",
    "\n",
    ">crypto key zeroize rsa.\n",
    "\n",
    "\n",
    "#configuration authentification locale\n",
    "\n",
    ">username admin secret ccna\n",
    "\n",
    "\n",
    "#autoriser uniquement connextion ssh\n",
    "\n",
    ">line vty 0 15\n",
    "> transport input ssh \n",
    ">login local\n",
    ">exit\n",
    ">ip ssh version 2\n",
    ">exit\n"
   ]
  },
  {
   "cell_type": "markdown",
   "metadata": {},
   "source": [
    "# Configuration des ports"
   ]
  },
  {
   "cell_type": "code",
   "execution_count": null,
   "metadata": {
    "collapsed": true
   },
   "outputs": [],
   "source": [
    "\n",
    "conf t\n",
    "int fa0/0\n",
    "duplex full\n",
    "speed 100\n",
    "end\n",
    "copy running-config startup-config\n"
   ]
  },
  {
   "cell_type": "markdown",
   "metadata": {},
   "source": [
    "# Surveillance DHCP"
   ]
  },
  {
   "cell_type": "code",
   "execution_count": null,
   "metadata": {
    "collapsed": true
   },
   "outputs": [],
   "source": [
    "ip dhcp snooping\n",
    "\n",
    "ip dhcp snooping vlan ---\n",
    "\n",
    "#definir des ports fiables\n",
    "\n",
    "ip dhcp snooping trust\n",
    "\n",
    "ip dhcp snooping limit rate fréquence\n"
   ]
  },
  {
   "cell_type": "markdown",
   "metadata": {},
   "source": [
    "# Sécurité des ports"
   ]
  },
  {
   "cell_type": "code",
   "execution_count": null,
   "metadata": {
    "collapsed": true
   },
   "outputs": [],
   "source": [
    "switchport mode access\n",
    "switchport port-security (par défaut mode shutdown, port s'éteint en cas de violation de sécurité)\n",
    "switchport port-security maximum 50 (limite à 50 adresses mac différentes sur cette interface)\n",
    "\n",
    "#activer apprentissage rémanent\n",
    "                          \n",
    "switchport port-security mac-address sticky\n",
    "\n",
    "#definir type de violation\n",
    "\n",
    "switchport port-security violation {protect | restrict | shutdown}.\n",
    "\n",
    "#info\n",
    "\n",
    "show port-security interface fax/x"
   ]
  },
  {
   "cell_type": "markdown",
   "metadata": {},
   "source": [
    "# serveur NTP"
   ]
  },
  {
   "cell_type": "code",
   "execution_count": null,
   "metadata": {
    "collapsed": true
   },
   "outputs": [],
   "source": [
    "\n",
    "#serveur ntp\n",
    "\n",
    "ntp master 1\n",
    "\n",
    "#client ntp\n",
    "\n",
    "#info \n",
    "\n",
    "show ntp associations\n",
    "show ntp status\n",
    "ntp server xxxxxx"
   ]
  },
  {
   "cell_type": "markdown",
   "metadata": {},
   "source": [
    "# Configuration de VLAN"
   ]
  },
  {
   "cell_type": "code",
   "execution_count": null,
   "metadata": {
    "collapsed": true
   },
   "outputs": [],
   "source": [
    "vlan xxxxxx\n",
    "name xxxxxx\n",
    "end\n",
    "\n",
    "#affecter interface dans un vlan et le créer si nexiste pas\n",
    "\n",
    "interface range fax/x - y\n",
    "switchport mode access\n",
    "switchport access vlan xx\n",
    "end\n",
    "\n",
    "# retier interface du vlan\n",
    "\n",
    "interface xxx\n",
    "no switchport access vlan xx\n",
    "end\n",
    "\n",
    "#info\n",
    "show vlan brief\n",
    "show interfaces f0/1 switchport\n",
    "\n",
    "#supprimer info vlan \n",
    "\n",
    "delete flash:vlan.dat\n",
    "\n",
    "#changer vlan natif\n",
    "\n",
    "switchport trunk native vlan 99\n",
    "\n",
    "#filter les vlan du port trunk\n",
    "\n",
    "switchport trunk allowed vlan 10,20,xx,xx\n",
    "\n",
    "#AUTO NEGOCIATION (trunk ou access)\n",
    "\n",
    "switchport mode dynamic auto (par défaut)\n",
    "\n",
    "#desactiver DTP\n",
    "\n",
    "switchport nonegotiate\n",
    "\n",
    "#info sur dtp\n",
    "\n",
    "show dtp interface fax/x\n",
    "\n",
    "\n",
    "#securite sur les ports\n",
    "\n",
    "int fax/x\n",
    "switchport protected\n",
    "end"
   ]
  },
  {
   "cell_type": "markdown",
   "metadata": {},
   "source": [
    "# Routage"
   ]
  },
  {
   "cell_type": "code",
   "execution_count": null,
   "metadata": {
    "collapsed": true
   },
   "outputs": [],
   "source": [
    "# info sur les routes \n",
    "tracert (depuis pc windows)\n",
    "traceroute (depuis un routeur cisco)\n",
    "\n",
    "#resolution dns\n",
    "\n",
    "nslookup , linux( dig)\n",
    "\n",
    "### configuration avec ipv6\n",
    "\n",
    "ipv6 enable (configuration auto address link-local)\n",
    "\n",
    "\n",
    "# addresse monodiffusion globale\n",
    "\n",
    "ipv6 address ---/prefix\n",
    "\n",
    "#monodiffusion globale eui-64\n",
    "\n",
    "ipv6 address ---/prefix  eui-64\n",
    "\n",
    "# addresse link local statique\n",
    "\n",
    "ipv6 address ---/prefix link-local\n",
    "\n",
    "\n",
    "\n",
    "###configuration des routes statiques\n",
    "\n",
    "\n",
    "####configuration des routes dynamique\n",
    "\n",
    "\n",
    "## RIP\n",
    "\n",
    "router rip //activation du protocole rip sur le routeur\n",
    "network xx.xx.xx // annonce des réseaux connectés directement au routeur \n",
    "\n",
    "\n",
    "## ipv6\n",
    "\n",
    "ipv6 unicast-routing\n",
    "\n",
    "interface xxxxxx\n",
    "ipv6 RIP-AS enable"
   ]
  },
  {
   "cell_type": "code",
   "execution_count": null,
   "metadata": {
    "collapsed": true
   },
   "outputs": [],
   "source": []
  }
 ],
 "metadata": {
  "celltoolbar": "Raw Cell Format",
  "kernelspec": {
   "display_name": "Python 3",
   "language": "python",
   "name": "python3"
  },
  "language_info": {
   "codemirror_mode": {
    "name": "ipython",
    "version": 3
   },
   "file_extension": ".py",
   "mimetype": "text/x-python",
   "name": "python",
   "nbconvert_exporter": "python",
   "pygments_lexer": "ipython3",
   "version": "3.4.3"
  },
  "toc": {
   "colors": {
    "hover_highlight": "#DAA520",
    "navigate_num": "#000000",
    "navigate_text": "#333333",
    "running_highlight": "#FF0000",
    "selected_highlight": "#FFD700",
    "sidebar_border": "#EEEEEE",
    "wrapper_background": "#FFFFFF"
   },
   "moveMenuLeft": false,
   "nav_menu": {
    "height": "179px",
    "width": "252px"
   },
   "navigate_menu": true,
   "number_sections": true,
   "sideBar": true,
   "threshold": 4,
   "toc_cell": true,
   "toc_position": {
    "height": "534px",
    "left": "0px",
    "right": "1154px",
    "top": "0px",
    "width": "212px"
   },
   "toc_section_display": "block",
   "toc_window_display": true,
   "widenNotebook": false
  }
 },
 "nbformat": 4,
 "nbformat_minor": 2
}
